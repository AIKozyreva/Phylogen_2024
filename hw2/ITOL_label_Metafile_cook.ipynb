{
 "cells": [
  {
   "cell_type": "code",
   "execution_count": null,
   "id": "008efcb0-4398-4119-bdc7-7a559a3d37ea",
   "metadata": {
    "collapsed": true,
    "jupyter": {
     "outputs_hidden": true
    },
    "scrolled": true
   },
   "outputs": [
    {
     "name": "stdout",
     "output_type": "stream",
     "text": [
      "Collecting pandas\n",
      "  Downloading pandas-2.2.3-cp312-cp312-manylinux_2_17_x86_64.manylinux2014_x86_64.whl.metadata (89 kB)\n",
      "Collecting numpy>=1.26.0 (from pandas)\n",
      "  Downloading numpy-2.1.2-cp312-cp312-manylinux_2_17_x86_64.manylinux2014_x86_64.whl.metadata (60 kB)\n",
      "Requirement already satisfied: python-dateutil>=2.8.2 in /home/kozyr_home/miniconda3/envs/phylo_gen/lib/python3.12/site-packages (from pandas) (2.9.0.post0)\n",
      "Requirement already satisfied: pytz>=2020.1 in /home/kozyr_home/miniconda3/envs/phylo_gen/lib/python3.12/site-packages (from pandas) (2024.1)\n",
      "Collecting tzdata>=2022.7 (from pandas)\n",
      "  Downloading tzdata-2024.2-py2.py3-none-any.whl.metadata (1.4 kB)\n",
      "Requirement already satisfied: six>=1.5 in /home/kozyr_home/miniconda3/envs/phylo_gen/lib/python3.12/site-packages (from python-dateutil>=2.8.2->pandas) (1.16.0)\n",
      "Downloading pandas-2.2.3-cp312-cp312-manylinux_2_17_x86_64.manylinux2014_x86_64.whl (12.7 MB)\n",
      "\u001b[2K   \u001b[90m━━━━━━━━━━━━━━━━━━━━━━━━━━━━━━━━━━━━━━━━\u001b[0m \u001b[32m12.7/12.7 MB\u001b[0m \u001b[31m11.2 MB/s\u001b[0m eta \u001b[36m0:00:00\u001b[0m00:01\u001b[0m0:01\u001b[0m\n",
      "\u001b[?25hDownloading numpy-2.1.2-cp312-cp312-manylinux_2_17_x86_64.manylinux2014_x86_64.whl (16.0 MB)\n",
      "\u001b[2K   \u001b[90m━━━━━━━━━━━━━━━━━━━━━━━━━━━━━━━━━━━━━━━━\u001b[0m \u001b[32m16.0/16.0 MB\u001b[0m \u001b[31m4.9 MB/s\u001b[0m eta \u001b[36m0:00:00\u001b[0m00:01\u001b[0m00:01\u001b[0m\n",
      "\u001b[?25hDownloading tzdata-2024.2-py2.py3-none-any.whl (346 kB)\n",
      "Installing collected packages: tzdata, numpy, pandas\n"
     ]
    }
   ],
   "source": [
    "!pip install pandas"
   ]
  },
  {
   "cell_type": "code",
   "execution_count": 5,
   "id": "778279ef-4ca8-4da4-86e2-2c9ce27d0646",
   "metadata": {},
   "outputs": [],
   "source": [
    "import pandas as pd\n",
    "\n",
    "file_path = \"paper_seqs.fasta\"\n",
    "\n",
    "with open(file_path, \"r\") as file:\n",
    "    lines = file.readlines()\n",
    "\n",
    "# Создаем датафрейм с одной колонкой, содержащей каждую строку файла\n",
    "df = pd.DataFrame(lines, columns=[\"line\"])\n",
    "\n",
    "# Убираем символы новой строки в конце каждой строки (если нужно)\n",
    "df['line'] = df['line'].str.strip()"
   ]
  },
  {
   "cell_type": "code",
   "execution_count": 6,
   "id": "d2bcd209-a5a9-44ee-85ee-d35a77f24366",
   "metadata": {},
   "outputs": [
    {
     "data": {
      "text/html": [
       "<div>\n",
       "<style scoped>\n",
       "    .dataframe tbody tr th:only-of-type {\n",
       "        vertical-align: middle;\n",
       "    }\n",
       "\n",
       "    .dataframe tbody tr th {\n",
       "        vertical-align: top;\n",
       "    }\n",
       "\n",
       "    .dataframe thead th {\n",
       "        text-align: right;\n",
       "    }\n",
       "</style>\n",
       "<table border=\"1\" class=\"dataframe\">\n",
       "  <thead>\n",
       "    <tr style=\"text-align: right;\">\n",
       "      <th></th>\n",
       "      <th>line</th>\n",
       "    </tr>\n",
       "  </thead>\n",
       "  <tbody>\n",
       "    <tr>\n",
       "      <th>0</th>\n",
       "      <td>&gt;KM233765.1 Hormiphora californensis clone Hca...</td>\n",
       "    </tr>\n",
       "    <tr>\n",
       "      <th>1</th>\n",
       "      <td>CCTGTTGGGGACTCCTTTTTTCTACGCGACGCTCGCTCACACAGCT...</td>\n",
       "    </tr>\n",
       "    <tr>\n",
       "      <th>2</th>\n",
       "      <td>CCAACAGCTCAGTCGGCGATTAGGCTAACCTCCCGTTCAGCTCTAC...</td>\n",
       "    </tr>\n",
       "    <tr>\n",
       "      <th>3</th>\n",
       "      <td>GACGGCTCTCTGGACTCGCTACCATGGGCCTACTCCGGAGGGGGAG...</td>\n",
       "    </tr>\n",
       "    <tr>\n",
       "      <th>4</th>\n",
       "      <td>GGACCCATACTGGAGAGCTCAGATGGTCCGCCTCTTTCATGATGTC...</td>\n",
       "    </tr>\n",
       "  </tbody>\n",
       "</table>\n",
       "</div>"
      ],
      "text/plain": [
       "                                                line\n",
       "0  >KM233765.1 Hormiphora californensis clone Hca...\n",
       "1  CCTGTTGGGGACTCCTTTTTTCTACGCGACGCTCGCTCACACAGCT...\n",
       "2  CCAACAGCTCAGTCGGCGATTAGGCTAACCTCCCGTTCAGCTCTAC...\n",
       "3  GACGGCTCTCTGGACTCGCTACCATGGGCCTACTCCGGAGGGGGAG...\n",
       "4  GGACCCATACTGGAGAGCTCAGATGGTCCGCCTCTTTCATGATGTC..."
      ]
     },
     "execution_count": 6,
     "metadata": {},
     "output_type": "execute_result"
    }
   ],
   "source": [
    "df.head()"
   ]
  },
  {
   "cell_type": "code",
   "execution_count": 22,
   "id": "91677ea4-34b3-44b5-99fd-ef2ac1b6ce9e",
   "metadata": {},
   "outputs": [],
   "source": [
    "import re"
   ]
  },
  {
   "cell_type": "code",
   "execution_count": 7,
   "id": "de4c3e5c-887d-44b1-a1f8-3a977aa20c5b",
   "metadata": {
    "collapsed": true,
    "jupyter": {
     "outputs_hidden": true
    },
    "scrolled": true
   },
   "outputs": [
    {
     "name": "stdout",
     "output_type": "stream",
     "text": [
      "Collecting Bio\n",
      "  Downloading bio-1.7.1-py3-none-any.whl.metadata (5.7 kB)\n",
      "Collecting biopython>=1.80 (from Bio)\n",
      "  Downloading biopython-1.84-cp312-cp312-manylinux_2_17_x86_64.manylinux2014_x86_64.whl.metadata (12 kB)\n",
      "Collecting gprofiler-official (from Bio)\n",
      "  Downloading gprofiler_official-1.0.0-py3-none-any.whl.metadata (11 kB)\n",
      "Collecting mygene (from Bio)\n",
      "  Downloading mygene-3.2.2-py2.py3-none-any.whl.metadata (10 kB)\n",
      "Requirement already satisfied: pandas in /home/kozyr_home/miniconda3/envs/phylo_gen/lib/python3.12/site-packages (from Bio) (2.2.3)\n",
      "Collecting pooch (from Bio)\n",
      "  Downloading pooch-1.8.2-py3-none-any.whl.metadata (10 kB)\n",
      "Requirement already satisfied: requests in /home/kozyr_home/miniconda3/envs/phylo_gen/lib/python3.12/site-packages (from Bio) (2.32.3)\n",
      "Collecting tqdm (from Bio)\n",
      "  Using cached tqdm-4.66.5-py3-none-any.whl.metadata (57 kB)\n",
      "Requirement already satisfied: numpy in /home/kozyr_home/miniconda3/envs/phylo_gen/lib/python3.12/site-packages (from biopython>=1.80->Bio) (2.1.2)\n",
      "Collecting biothings-client>=0.2.6 (from mygene->Bio)\n",
      "  Downloading biothings_client-0.3.1-py2.py3-none-any.whl.metadata (9.8 kB)\n",
      "Requirement already satisfied: python-dateutil>=2.8.2 in /home/kozyr_home/miniconda3/envs/phylo_gen/lib/python3.12/site-packages (from pandas->Bio) (2.9.0.post0)\n",
      "Requirement already satisfied: pytz>=2020.1 in /home/kozyr_home/miniconda3/envs/phylo_gen/lib/python3.12/site-packages (from pandas->Bio) (2024.1)\n",
      "Requirement already satisfied: tzdata>=2022.7 in /home/kozyr_home/miniconda3/envs/phylo_gen/lib/python3.12/site-packages (from pandas->Bio) (2024.2)\n",
      "Requirement already satisfied: platformdirs>=2.5.0 in /home/kozyr_home/miniconda3/envs/phylo_gen/lib/python3.12/site-packages (from pooch->Bio) (3.10.0)\n",
      "Requirement already satisfied: packaging>=20.0 in /home/kozyr_home/miniconda3/envs/phylo_gen/lib/python3.12/site-packages (from pooch->Bio) (24.1)\n",
      "Requirement already satisfied: charset-normalizer<4,>=2 in /home/kozyr_home/miniconda3/envs/phylo_gen/lib/python3.12/site-packages (from requests->Bio) (3.3.2)\n",
      "Requirement already satisfied: idna<4,>=2.5 in /home/kozyr_home/miniconda3/envs/phylo_gen/lib/python3.12/site-packages (from requests->Bio) (3.7)\n",
      "Requirement already satisfied: urllib3<3,>=1.21.1 in /home/kozyr_home/miniconda3/envs/phylo_gen/lib/python3.12/site-packages (from requests->Bio) (2.2.3)\n",
      "Requirement already satisfied: certifi>=2017.4.17 in /home/kozyr_home/miniconda3/envs/phylo_gen/lib/python3.12/site-packages (from requests->Bio) (2024.8.30)\n",
      "Requirement already satisfied: six>=1.5 in /home/kozyr_home/miniconda3/envs/phylo_gen/lib/python3.12/site-packages (from python-dateutil>=2.8.2->pandas->Bio) (1.16.0)\n",
      "Downloading bio-1.7.1-py3-none-any.whl (280 kB)\n",
      "Downloading biopython-1.84-cp312-cp312-manylinux_2_17_x86_64.manylinux2014_x86_64.whl (3.2 MB)\n",
      "\u001b[2K   \u001b[90m━━━━━━━━━━━━━━━━━━━━━━━━━━━━━━━━━━━━━━━━\u001b[0m \u001b[32m3.2/3.2 MB\u001b[0m \u001b[31m12.1 MB/s\u001b[0m eta \u001b[36m0:00:00\u001b[0m00:01\u001b[0m\n",
      "\u001b[?25hDownloading gprofiler_official-1.0.0-py3-none-any.whl (9.3 kB)\n",
      "Downloading mygene-3.2.2-py2.py3-none-any.whl (5.4 kB)\n",
      "Downloading pooch-1.8.2-py3-none-any.whl (64 kB)\n",
      "Using cached tqdm-4.66.5-py3-none-any.whl (78 kB)\n",
      "Downloading biothings_client-0.3.1-py2.py3-none-any.whl (29 kB)\n",
      "Installing collected packages: tqdm, biopython, pooch, gprofiler-official, biothings-client, mygene, Bio\n",
      "Successfully installed Bio-1.7.1 biopython-1.84 biothings-client-0.3.1 gprofiler-official-1.0.0 mygene-3.2.2 pooch-1.8.2 tqdm-4.66.5\n"
     ]
    }
   ],
   "source": [
    "!pip install Bio"
   ]
  },
  {
   "cell_type": "code",
   "execution_count": 19,
   "id": "157580f2-0244-4aee-8964-2f566e31447a",
   "metadata": {},
   "outputs": [],
   "source": [
    "from Bio import SeqIO\n",
    "\n",
    "records = []\n",
    "\n",
    "# Чтение FASTA файла и добавление данных в список\n",
    "for record in SeqIO.parse(file_path, \"fasta\"):\n",
    "    header = record.id  \n",
    "    descr = record.description.split('.1', 1)[-1].strip()\n",
    "    taxon = \" \".join(descr.split(\" \", 2)[:2])\n",
    "    sequence = str(record.seq)\n",
    "    records.append([header, taxon, descr, sequence])\n",
    "\n",
    "df1 = pd.DataFrame(records, columns=[\"Accession\", \"Taxa\", \"Description\", \"Sequence\"])"
   ]
  },
  {
   "cell_type": "code",
   "execution_count": 21,
   "id": "f8db9f4f-5a72-443e-8208-be01327aea36",
   "metadata": {
    "collapsed": true,
    "jupyter": {
     "outputs_hidden": true
    },
    "scrolled": true
   },
   "outputs": [
    {
     "data": {
      "text/plain": [
       "array(['Hormiphora californensis clone Hcal_nonPP putative photoprotein-like protein mRNA, complete cds',\n",
       "       'Velamen parallelum clone Vpar_nonPP-p putative photoprotein-like protein mRNA, partial cds',\n",
       "       'Dryodora glandiformis clone Dgla_nonPP putative photoprotein-like protein mRNA, complete cds',\n",
       "       'Ctenophora sp. N1 WRF-2014 clone spN1_nonPP putative photoprotein-like protein mRNA, complete cds',\n",
       "       'Ctenophora sp. N2 WRF-2014 clone spN2_nonPP putative photoprotein-like protein mRNA, complete cds',\n",
       "       'Ctenophora sp. W WRF-2014 clone spW_nonPP-p putative photoprotein-like protein mRNA, partial cds',\n",
       "       'Ocyropsis maculata clone Omac_nonPP putative photoprotein-like protein mRNA, complete cds',\n",
       "       'Charistephane fugiens clone Cfug_FYY1-p putative isopenicillin-n-synthase mRNA, partial cds',\n",
       "       'Euplokamis dunlapae clone Edun_FYY1 putative isopenicillin-n-synthase mRNA, complete cds',\n",
       "       'Euplokamis dunlapae clone Edun_FYY2 putative isopenicillin-n-synthase mRNA, complete cds',\n",
       "       'Ctenophora sp. B WRF-2014 clone spB_FYY1 putative isopenicillin-n-synthase mRNA, complete cds',\n",
       "       'Bathyctena chuni clone Bchu_FYY1 putative isopenicillin-n-synthase mRNA, complete cds',\n",
       "       'Ctenophora sp. W WRF-2014 clone spW_FYY1 putative isopenicillin-n-synthase mRNA, complete cds',\n",
       "       'Ctenophora sp. W WRF-2014 clone spW_FYY2 putative isopenicillin-n-synthase mRNA, complete cds',\n",
       "       'Ctenophora sp. N1 WRF-2014 clone spN1_FYY1 putative isopenicillin-n-synthase mRNA, complete cds',\n",
       "       'Ctenophora sp. N2 WRF-2014 clone spN2_FYY1 putative isopenicillin-n-synthase mRNA, complete cds',\n",
       "       'Dryodora glandiformis clone Dgla_FYY1 putative isopenicillin-n-synthase mRNA, complete cds',\n",
       "       'Bathocyroe fosteri clone Bfos_FYY1 putative isopenicillin-n-synthase mRNA, complete cds',\n",
       "       'Ctenophora sp. T WRF-2014 clone spT_FYY1 putative isopenicillin-n-synthase mRNA, complete cds',\n",
       "       'Ctenophora sp. T WRF-2014 clone spT_FYY2 putative isopenicillin-n-synthase mRNA, complete cds',\n",
       "       'Ctenophora sp. T WRF-2014 clone spT_FYY3 putative isopenicillin-n-synthase mRNA, complete cds',\n",
       "       'Velamen parallelum clone Vpar_FYY1 putative isopenicillin-n-synthase mRNA, complete cds',\n",
       "       'Bolinopsis infundibulum clone Binf_FYY1 putative isopenicillin-n-synthase mRNA, complete cds',\n",
       "       'Ocyropsis maculata clone Omac_FYY1 putative isopenicillin-n-synthase mRNA, complete cds',\n",
       "       'Thalassocalyce inconstans clone Tinc_FYY1 putative isopenicillin-n-synthase mRNA, complete cds',\n",
       "       'Thalassocalyce inconstans clone Tinc_FYY2 putative isopenicillin-n-synthase mRNA, complete cds',\n",
       "       'Lampocteis cruentiventer clone Lcru_FYY1 putative isopenicillin-n-synthase mRNA, complete cds',\n",
       "       'Lobata sp. V WRF-2014 clone spV_FYY1 putative isopenicillin-n-synthase mRNA, complete cds',\n",
       "       'Beroe abyssicola clone Baby_FYY1 putative isopenicillin-n-synthase mRNA, complete cds',\n",
       "       'Beroe forskalii clone Bfor_FYY1 putative isopenicillin-n-synthase mRNA, complete cds',\n",
       "       'Haeckelia rubra clone Hrub_FYY1 putative isopenicillin-n-synthase mRNA, complete cds',\n",
       "       'Euplokamis dunlapae clone Edun_2OGFe1 putative isopenicillin-n-synthase mRNA, complete cds',\n",
       "       'Ctenophora sp. C WRF-2014 clone spC_2OGFe1b putative isopenicillin-n-synthase mRNA, complete cds',\n",
       "       'Ctenophora sp. C WRF-2014 clone spC_2OGFe2 putative isopenicillin-n-synthase mRNA, complete cds',\n",
       "       'Ctenophora sp. B WRF-2014 clone spB_2OGFe1 putative isopenicillin-n-synthase mRNA, complete cds',\n",
       "       'Ctenophora sp. B WRF-2014 clone spB_2OGFe2 putative isopenicillin-n-synthase mRNA, partial cds',\n",
       "       'Bathyctena chuni clone Bchu_2OGFe1 putative isopenicillin-n-synthase mRNA, complete cds',\n",
       "       'Bathyctena chuni clone Bchu_2OGFe2 putative isopenicillin-n-synthase mRNA, complete cds',\n",
       "       'Ctenophora sp. W WRF-2014 clone spW_2OGFe1 putative isopenicillin-n-synthase mRNA, complete cds',\n",
       "       'Ctenophora sp. W WRF-2014 clone spW_2OGFe2 putative isopenicillin-n-synthase mRNA, complete cds',\n",
       "       'Ctenophora sp. N1 WRF-2014 clone spN1_2OGFe1 putative isopenicillin-n-synthase mRNA, complete cds',\n",
       "       'Ctenophora sp. N2 WRF-2014 clone spN2_2OGFe2 putative isopenicillin-n-synthase mRNA, complete cds',\n",
       "       'Bathocyroe fosteri clone Bfos_2OGFe1-p putative isopenicillin-n-synthase mRNA, complete cds',\n",
       "       'Bathocyroe fosteri clone Bfos_2OGFe2 putative isopenicillin-n-synthase mRNA, complete cds',\n",
       "       'Hormiphora californensis clone Hcal_2OGFe2 putative isopenicillin-n-synthase mRNA, complete cds',\n",
       "       'Hormiphora californensis clone Hcal_2OGFe1 putative isopenicillin-n-synthase mRNA, complete cds',\n",
       "       'Dryodora glandiformis clone Dgla_2OGFe2 putative isopenicillin-n-synthase mRNA, complete cds',\n",
       "       'Dryodora glandiformis clone Dgla_2OGFe1 putative isopenicillin-n-synthase mRNA, complete cds',\n",
       "       'Bolinopsis infundibulum clone Binf_2OGFe2 putative isopenicillin-n-synthase mRNA, complete cds',\n",
       "       'Ocyropsis maculata clone Omac_2OGFe1-p putative isopenicillin-n-synthase mRNA, partial cds',\n",
       "       'Ocyropsis maculata clone Omac_2OGFe2 putative isopenicillin-n-synthase mRNA, partial cds',\n",
       "       'Velamen parallelum clone Vpar_2OGFe1-p putative isopenicillin-n-synthase mRNA, complete cds',\n",
       "       'Lampocteis cruentiventer clone Lcru_2OGFe1 putative isopenicillin-n-synthase mRNA, complete cds',\n",
       "       'Lampocteis cruentiventer clone Lcru_2OGFe2 putative isopenicillin-n-synthase mRNA, complete cds',\n",
       "       'Thalassocalyce inconstans clone Tinc_2OGFe2 putative isopenicillin-n-synthase mRNA, complete cds',\n",
       "       'Thalassocalyce inconstans clone Tinc_2OGFe1 putative isopenicillin-n-synthase mRNA, complete cds',\n",
       "       'Beroe abyssicola clone Baby_2OGFe1-p putative isopenicillin-n-synthase mRNA, complete cds',\n",
       "       'Beroe abyssicola clone Baby_2OGFe2 putative isopenicillin-n-synthase mRNA, complete cds',\n",
       "       'Beroe forskalii clone Bfor_2OGFe1 putative isopenicillin-n-synthase mRNA, complete cds',\n",
       "       'Haeckelia rubra clone Hrub_2OGFe1 putative isopenicillin-n-synthase mRNA, complete cds',\n",
       "       'Ctenophora sp. C WRF-2014 clone spC_FYY1 putative isopenicillin-n-synthase mRNA, complete cds',\n",
       "       'Lampea lactea clone Llac_FYY1 putative isopenicillin-n-synthase mRNA, complete cds',\n",
       "       'Charistephane fugiens clone Cfug_2OGFe1 putative isopenicillin-n-synthase mRNA, complete cds',\n",
       "       'Ctenophora sp. C WRF-2014 clone spC_2OGFe1 putative isopenicillin-n-synthase mRNA, complete cds',\n",
       "       'Lampea lactea clone Llac_2OGFe1-p putative isopenicillin-n-synthase mRNA, complete cds',\n",
       "       'Lampea lactea clone Llac_2OGFe2 putative isopenicillin-n-synthase mRNA, complete cds',\n",
       "       'Ctenophora sp. T WRF-2014 clone spT_2OGFe2 putative isopenicillin-n-synthase mRNA, complete cds',\n",
       "       'Lobata sp. V WRF-2014 clone spV_2OGFe1 putative isopenicillin-n-synthase mRNA, partial cds',\n",
       "       'Lobata sp. V WRF-2014 clone spV_2OGFe2 putative isopenicillin-n-synthase mRNA, complete cds'],\n",
       "      dtype=object)"
      ]
     },
     "execution_count": 21,
     "metadata": {},
     "output_type": "execute_result"
    }
   ],
   "source": [
    "df1['Description'].unique()"
   ]
  },
  {
   "cell_type": "code",
   "execution_count": 24,
   "id": "382183ff-a8d0-4782-b4d4-226a5d868437",
   "metadata": {},
   "outputs": [],
   "source": [
    "patterns = [\"nonPP\", \"2OGFe2\", \"2OGFe1\", \"FYY\"]"
   ]
  },
  {
   "cell_type": "code",
   "execution_count": 25,
   "id": "2fa663c0-6c4f-4041-868a-55bc1b8651b2",
   "metadata": {},
   "outputs": [],
   "source": [
    "def find_pattern(description):\n",
    "    for pattern in patterns:\n",
    "        if re.search(pattern, description):\n",
    "            return pattern\n",
    "    return None "
   ]
  },
  {
   "cell_type": "code",
   "execution_count": 26,
   "id": "79ac7e1a-d1ec-4437-9ffd-e1a8b6ed8008",
   "metadata": {},
   "outputs": [],
   "source": [
    "df1['type'] = df1['Description'].apply(find_pattern)"
   ]
  },
  {
   "cell_type": "code",
   "execution_count": 27,
   "id": "4fd3adfa-028d-453c-87fc-3cf0c73bf5f0",
   "metadata": {
    "scrolled": true
   },
   "outputs": [
    {
     "data": {
      "text/html": [
       "<div>\n",
       "<style scoped>\n",
       "    .dataframe tbody tr th:only-of-type {\n",
       "        vertical-align: middle;\n",
       "    }\n",
       "\n",
       "    .dataframe tbody tr th {\n",
       "        vertical-align: top;\n",
       "    }\n",
       "\n",
       "    .dataframe thead th {\n",
       "        text-align: right;\n",
       "    }\n",
       "</style>\n",
       "<table border=\"1\" class=\"dataframe\">\n",
       "  <thead>\n",
       "    <tr style=\"text-align: right;\">\n",
       "      <th></th>\n",
       "      <th>Accession</th>\n",
       "      <th>Taxa</th>\n",
       "      <th>Description</th>\n",
       "      <th>Sequence</th>\n",
       "      <th>type</th>\n",
       "    </tr>\n",
       "  </thead>\n",
       "  <tbody>\n",
       "    <tr>\n",
       "      <th>0</th>\n",
       "      <td>KM233765.1</td>\n",
       "      <td>Hormiphora californensis</td>\n",
       "      <td>Hormiphora californensis clone Hcal_nonPP puta...</td>\n",
       "      <td>CCTGTTGGGGACTCCTTTTTTCTACGCGACGCTCGCTCACACAGCT...</td>\n",
       "      <td>nonPP</td>\n",
       "    </tr>\n",
       "    <tr>\n",
       "      <th>1</th>\n",
       "      <td>KM233766.1</td>\n",
       "      <td>Velamen parallelum</td>\n",
       "      <td>Velamen parallelum clone Vpar_nonPP-p putative...</td>\n",
       "      <td>AAGCAAGAGGTAGACCAACACTGCACGGGAAGGTGGCCAACGCGCT...</td>\n",
       "      <td>nonPP</td>\n",
       "    </tr>\n",
       "    <tr>\n",
       "      <th>2</th>\n",
       "      <td>KM233767.1</td>\n",
       "      <td>Dryodora glandiformis</td>\n",
       "      <td>Dryodora glandiformis clone Dgla_nonPP putativ...</td>\n",
       "      <td>ATCAACACAAATTTGAGGTCATGGGCAAAGAGTTGTCAACATGTAG...</td>\n",
       "      <td>nonPP</td>\n",
       "    </tr>\n",
       "    <tr>\n",
       "      <th>3</th>\n",
       "      <td>KM233768.1</td>\n",
       "      <td>Ctenophora sp.</td>\n",
       "      <td>Ctenophora sp. N1 WRF-2014 clone spN1_nonPP pu...</td>\n",
       "      <td>GTTTGTTTGTTATTTAGGGTACTTTGTTGACAGTTTGCTTGTGATA...</td>\n",
       "      <td>nonPP</td>\n",
       "    </tr>\n",
       "    <tr>\n",
       "      <th>4</th>\n",
       "      <td>KM233769.1</td>\n",
       "      <td>Ctenophora sp.</td>\n",
       "      <td>Ctenophora sp. N2 WRF-2014 clone spN2_nonPP pu...</td>\n",
       "      <td>GTTTGTTATTTAGGGTACTTGGTTTATAGTTTGCTTGTGATAATGG...</td>\n",
       "      <td>nonPP</td>\n",
       "    </tr>\n",
       "    <tr>\n",
       "      <th>...</th>\n",
       "      <td>...</td>\n",
       "      <td>...</td>\n",
       "      <td>...</td>\n",
       "      <td>...</td>\n",
       "      <td>...</td>\n",
       "    </tr>\n",
       "    <tr>\n",
       "      <th>64</th>\n",
       "      <td>KM233829.1</td>\n",
       "      <td>Lampea lactea</td>\n",
       "      <td>Lampea lactea clone Llac_2OGFe1-p putative iso...</td>\n",
       "      <td>CTTCGATTTGAGAAGGAACGTTGCTAGAGCCGTAATACACAGTATC...</td>\n",
       "      <td>2OGFe1</td>\n",
       "    </tr>\n",
       "    <tr>\n",
       "      <th>65</th>\n",
       "      <td>KM233830.1</td>\n",
       "      <td>Lampea lactea</td>\n",
       "      <td>Lampea lactea clone Llac_2OGFe2 putative isope...</td>\n",
       "      <td>GGGCCAAAATGCCGGAATCAGGAAACGATAATCCGTTGTCGGAAGT...</td>\n",
       "      <td>2OGFe2</td>\n",
       "    </tr>\n",
       "    <tr>\n",
       "      <th>66</th>\n",
       "      <td>KM233831.1</td>\n",
       "      <td>Ctenophora sp.</td>\n",
       "      <td>Ctenophora sp. T WRF-2014 clone spT_2OGFe2 put...</td>\n",
       "      <td>CTACTATATATTAAATTTAATTGAGCACAATGGTACTTCTCAAAGA...</td>\n",
       "      <td>2OGFe2</td>\n",
       "    </tr>\n",
       "    <tr>\n",
       "      <th>67</th>\n",
       "      <td>KM233832.1</td>\n",
       "      <td>Lobata sp.</td>\n",
       "      <td>Lobata sp. V WRF-2014 clone spV_2OGFe1 putativ...</td>\n",
       "      <td>AACAAATAATTTGAGCAAATAGAGATGGAATTGAGTAGCGGATTCG...</td>\n",
       "      <td>2OGFe1</td>\n",
       "    </tr>\n",
       "    <tr>\n",
       "      <th>68</th>\n",
       "      <td>KM233833.1</td>\n",
       "      <td>Lobata sp.</td>\n",
       "      <td>Lobata sp. V WRF-2014 clone spV_2OGFe2 putativ...</td>\n",
       "      <td>CTACTATTAAACAAATAATTTGAGCTATACTAGCTGAATGGTTAAA...</td>\n",
       "      <td>2OGFe2</td>\n",
       "    </tr>\n",
       "  </tbody>\n",
       "</table>\n",
       "<p>69 rows × 5 columns</p>\n",
       "</div>"
      ],
      "text/plain": [
       "     Accession                      Taxa  \\\n",
       "0   KM233765.1  Hormiphora californensis   \n",
       "1   KM233766.1        Velamen parallelum   \n",
       "2   KM233767.1     Dryodora glandiformis   \n",
       "3   KM233768.1            Ctenophora sp.   \n",
       "4   KM233769.1            Ctenophora sp.   \n",
       "..         ...                       ...   \n",
       "64  KM233829.1             Lampea lactea   \n",
       "65  KM233830.1             Lampea lactea   \n",
       "66  KM233831.1            Ctenophora sp.   \n",
       "67  KM233832.1                Lobata sp.   \n",
       "68  KM233833.1                Lobata sp.   \n",
       "\n",
       "                                          Description  \\\n",
       "0   Hormiphora californensis clone Hcal_nonPP puta...   \n",
       "1   Velamen parallelum clone Vpar_nonPP-p putative...   \n",
       "2   Dryodora glandiformis clone Dgla_nonPP putativ...   \n",
       "3   Ctenophora sp. N1 WRF-2014 clone spN1_nonPP pu...   \n",
       "4   Ctenophora sp. N2 WRF-2014 clone spN2_nonPP pu...   \n",
       "..                                                ...   \n",
       "64  Lampea lactea clone Llac_2OGFe1-p putative iso...   \n",
       "65  Lampea lactea clone Llac_2OGFe2 putative isope...   \n",
       "66  Ctenophora sp. T WRF-2014 clone spT_2OGFe2 put...   \n",
       "67  Lobata sp. V WRF-2014 clone spV_2OGFe1 putativ...   \n",
       "68  Lobata sp. V WRF-2014 clone spV_2OGFe2 putativ...   \n",
       "\n",
       "                                             Sequence    type  \n",
       "0   CCTGTTGGGGACTCCTTTTTTCTACGCGACGCTCGCTCACACAGCT...   nonPP  \n",
       "1   AAGCAAGAGGTAGACCAACACTGCACGGGAAGGTGGCCAACGCGCT...   nonPP  \n",
       "2   ATCAACACAAATTTGAGGTCATGGGCAAAGAGTTGTCAACATGTAG...   nonPP  \n",
       "3   GTTTGTTTGTTATTTAGGGTACTTTGTTGACAGTTTGCTTGTGATA...   nonPP  \n",
       "4   GTTTGTTATTTAGGGTACTTGGTTTATAGTTTGCTTGTGATAATGG...   nonPP  \n",
       "..                                                ...     ...  \n",
       "64  CTTCGATTTGAGAAGGAACGTTGCTAGAGCCGTAATACACAGTATC...  2OGFe1  \n",
       "65  GGGCCAAAATGCCGGAATCAGGAAACGATAATCCGTTGTCGGAAGT...  2OGFe2  \n",
       "66  CTACTATATATTAAATTTAATTGAGCACAATGGTACTTCTCAAAGA...  2OGFe2  \n",
       "67  AACAAATAATTTGAGCAAATAGAGATGGAATTGAGTAGCGGATTCG...  2OGFe1  \n",
       "68  CTACTATTAAACAAATAATTTGAGCTATACTAGCTGAATGGTTAAA...  2OGFe2  \n",
       "\n",
       "[69 rows x 5 columns]"
      ]
     },
     "execution_count": 27,
     "metadata": {},
     "output_type": "execute_result"
    }
   ],
   "source": [
    "df1.head(100)"
   ]
  },
  {
   "cell_type": "code",
   "execution_count": 29,
   "id": "7c5bb9ce-17d7-4482-bbd5-764b23ea908d",
   "metadata": {},
   "outputs": [],
   "source": [
    "df1.to_csv('metadata_paper_seqs.tsv', sep=\"\\t\")"
   ]
  },
  {
   "cell_type": "code",
   "execution_count": 30,
   "id": "3fcbc510-17d7-4508-8d55-8b7a0ad689a9",
   "metadata": {},
   "outputs": [],
   "source": [
    "df2 = df1.copy()"
   ]
  },
  {
   "cell_type": "code",
   "execution_count": 31,
   "id": "3305c37a-b4a5-4854-9513-75cca3931880",
   "metadata": {},
   "outputs": [
    {
     "name": "stdout",
     "output_type": "stream",
     "text": [
      "Файл '1_ITOL_dataset_labels.txt' успешно создан.\n"
     ]
    }
   ],
   "source": [
    "df2['LABEL'] = df2['Taxa'] + \"_ \" + df2['type']\n",
    "\n",
    "# Выбираем только нужные колонки для конечного файла\n",
    "output_df = df2[['Accession', 'LABEL']]\n",
    "output_df.columns = ['NODE_ID', 'LABEL']  # Переименовываем колонки в соответствии с шаблоном\n",
    "\n",
    "# Пишем данные в файл в нужном формате\n",
    "output_file = '1_ITOL_dataset_labels.txt'\n",
    "with open(output_file, 'w') as f:\n",
    "    # Добавляем заголовок шаблона\n",
    "    f.write(\"LABELS\\n\")\n",
    "    f.write(\"#use this template to change the leaf labels, or define/change the internal node names (displayed in mouseover popups)\\n\")\n",
    "    f.write(\"#lines starting with a hash are comments and ignored during parsing\\n\\n\")\n",
    "    f.write(\"SEPARATOR TAB\\n\")\n",
    "    f.write(\"#SEPARATOR COMMA\\n\\n\")\n",
    "    f.write(\"DATA\\n\")\n",
    "    f.write(\"#NODE_ID,LABEL\\n\")\n",
    "    \n",
    "    # Записываем данные из DataFrame в файл с табуляцией между колонками\n",
    "    output_df.to_csv(f, sep='\\t', index=False, header=False)\n",
    "\n",
    "print(f\"Файл '{output_file}' успешно создан.\")"
   ]
  },
  {
   "cell_type": "code",
   "execution_count": 33,
   "id": "a01fd346-6c00-4fa1-ab22-e4dc80179e48",
   "metadata": {},
   "outputs": [],
   "source": [
    "accession_to_label = {row['Accession']: row['LABEL'] for _, row in df2.iterrows()}\n",
    "\n",
    "# Путь к файлам\n",
    "input_fasta = \"1_project_subalign.fa\"\n",
    "output_fasta = \"1renamed_project_subalign.fa\"\n",
    "\n",
    "# Открываем входной файл, заменяем заголовки и записываем в выходной файл\n",
    "with open(output_fasta, \"w\") as output_handle:\n",
    "    for record in SeqIO.parse(input_fasta, \"fasta\"):\n",
    "        # Проверяем, есть ли Accession в словаре\n",
    "        accession = record.id.split()[0]\n",
    "        if accession in accession_to_label:\n",
    "            # Обновляем заголовок в формате 'Accession LABEL'\n",
    "            record.id = f\"{accession} {accession_to_label[accession]}\"\n",
    "            record.description = \"\"  # Сбрасываем описание для записи только ID\n",
    "        # Записываем обновленную запись в выходной файл\n",
    "        SeqIO.write(record, output_handle, \"fasta\")"
   ]
  },
  {
   "cell_type": "code",
   "execution_count": null,
   "id": "cfff23b1-9bf9-40f4-82fd-454e28ff5e3e",
   "metadata": {},
   "outputs": [],
   "source": [
    "accession_to_label = {row['Accession']: f\"{row['Accession']} {row['Taxa']}_{row['type']}\" for _, row in df1.iterrows()}\n",
    "\n",
    "# Обрабатываем FASTA-файл и заменяем заголовки\n",
    "with open(output_file, \"w\") as output_handle:\n",
    "    for record in SeqIO.parse(fasta_file, \"fasta\"):\n",
    "        accession = record.id.split()[0]  # Берем первую часть заголовка для поиска в DataFrame\n",
    "        if accession in accession_to_label:\n",
    "            # Заменяем заголовок на новый формат\n",
    "            record.id = accession_to_label[accession]\n",
    "            record.description = \"\"  # Убираем описание, чтобы заголовок содержал только `record.id`\n",
    "        SeqIO.write(record, output_handle, \"fasta\")\n",
    "\n",
    "print(f\"Обновленный FASTA файл сохранен как '{output_file}'\")"
   ]
  }
 ],
 "metadata": {
  "kernelspec": {
   "display_name": "Python 3 (ipykernel)",
   "language": "python",
   "name": "python3"
  },
  "language_info": {
   "codemirror_mode": {
    "name": "ipython",
    "version": 3
   },
   "file_extension": ".py",
   "mimetype": "text/x-python",
   "name": "python",
   "nbconvert_exporter": "python",
   "pygments_lexer": "ipython3",
   "version": "3.12.7"
  }
 },
 "nbformat": 4,
 "nbformat_minor": 5
}
